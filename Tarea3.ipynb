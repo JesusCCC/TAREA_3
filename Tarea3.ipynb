{
  "nbformat": 4,
  "nbformat_minor": 0,
  "metadata": {
    "colab": {
      "name": "Tarea3.ipynb",
      "provenance": []
    },
    "kernelspec": {
      "name": "python3",
      "display_name": "Python 3"
    },
    "language_info": {
      "name": "python"
    }
  },
  "cells": [
    {
      "cell_type": "code",
      "metadata": {
        "id": "DT1F6ShXyPNU"
      },
      "source": [
        "print(\"Detalle:\")\n",
        "\n",
        "menu_select = ['mesa=3','comensal=2','entrada','=\"Ensalada verde\"','medio=','\"crema de zanahoria\"','fuerte=','\"filete\"', 'adicionales=','\"Filete término medio la ensalada sin ningun tipo de semilla, Adereso Ranch\"']\n",
        "espacio =  '\\t'\n",
        "\n",
        "#Ubicacion de los elementos dentro del arreglo\n",
        "mesa = menu_select[0].upper()\n",
        "com = menu_select[1].upper()\n",
        "entrada = menu_select[2].upper()\n",
        "enta = menu_select[3]\n",
        "medio = menu_select[4].upper()\n",
        "med = menu_select[5]\n",
        "fuert = menu_select[6].upper()\n",
        "fuer = menu_select[7]\n",
        "adici = menu_select[8].upper()\n",
        "pladi = menu_select[9]\n",
        "\n",
        "\n",
        "#Muestra los datos especificos que ya estan modificados en el arreglo\n",
        "print( espacio , mesa )\n",
        "print( espacio, com )\n",
        "print( espacio, entrada, enta )\n",
        "print( espacio , medio, med) \n",
        "print( espacio, fuert, fuer )\n",
        "print( espacio, adici, pladi )\n",
        "\n",
        "\n"
      ],
      "execution_count": null,
      "outputs": []
    }
  ]
}